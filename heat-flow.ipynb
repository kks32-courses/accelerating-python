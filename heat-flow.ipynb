{
 "cells": [
  {
   "cell_type": "markdown",
   "id": "2c06126d-a527-47b2-bccd-a0e5d1c50f3c",
   "metadata": {
    "tags": []
   },
   "source": [
    "# Heat Flow Example Problem  \n",
    "\n",
    "Charlie Dey provided an excellent Introduction to Scientific Computing webinar that is available through the DesignSafe learning center at https://www.designsafe-ci.org/learning-center/training/ and via YouTube at https://youtu.be/GbkCt7u7v0o?si=N4F0i3p-u2vinQlK. As part of Charlie's webinar, he solves a 2-dimensional heat flow problem in an isotropic plate using the finite difference approximation, and he uses nested loops to compute the temperature within the plate. The nested loops provide an intuitive structure to the code that makes it easy for users to understand, but it is inefficient because Python is an interpreted language.\n",
    "\n",
    "In this notebook, we solve the same heatflow problem using vectorized Numpy and also using Numba and Just-In-Time compiling (JIT). We provide a comparison of the performance of the different codes."
   ]
  },
  {
   "cell_type": "markdown",
   "id": "66e07df0-a990-49f1-a799-098967d92fe3",
   "metadata": {},
   "source": [
    "## Heat Flow Problem\n",
    "\n",
    "The relative performance of different coding approaches is demonstrated using a finite difference solution to the 2D transient heat flow problem for a square domain with a constant initial temperature subject to a temperature change on the top.\n",
    "\n",
    "## Governing Differential Equation\n",
    "\n",
    "$\\frac{\\partial T}{\\partial t} = \\alpha \\left[ \\frac{\\partial ^2 T}{\\partial x^2} + \\frac{\\partial^2 T}{\\partial y^2}\\right]$  \n",
    "\n",
    "T = temperature  \n",
    "t = time  \n",
    "x = horizontal dimension  \n",
    "y = vertical dimension  \n",
    "$\\alpha$ = thermal diffusivity  \n",
    "\n",
    "## Finite Difference Approximation for a Rectangular Mesh  \n",
    "\n",
    "The finite difference approximation we use here is explicit, meaning that the state of the model for time step $i$ is used to project the state of the model at time step $i+1$. Explicit methods have the benefit of being easy to code because we don't have to solve a linear system of equations. However, they suffer the detriment that they are numerically unstable if the time step is too large.  \n",
    "\n",
    "$\\frac{\\partial T}{\\partial t} \\approx \\frac{T_{ij}^{k+1} - T_{ij}^{k}}{\\Delta t}$  \n",
    "\n",
    "$\\frac{\\partial ^2 T}{\\partial x^2} \\approx \\alpha \\frac{T_{i+1,j}^k -2T_{i,j}^k + T_{i-1,j}^k}{\\Delta x^2}$  \n",
    "\n",
    "$\\frac{\\partial ^2 T}{\\partial y^2} \\approx \\alpha \\frac{T_{1,j+1}^k -2T_{i,j}^k + T_{i,j-1}^k}{\\Delta y^2}$   \n",
    "\n",
    "$\\Delta x$ = node spacing in x-direction  \n",
    "$\\Delta y$ = node spacing in y-direction  \n",
    "$\\Delta t$ = time step  \n",
    "i = index counter for x-direction  \n",
    "j = index counter for y-direction  \n",
    "k = index counter for time  \n",
    "\n",
    "### Resulting Approximation After Making Substitutions  \n",
    "\n",
    "$\\frac{T_{ij}^{k+1} - T_{ij}^{k}}{\\Delta t} = \\alpha \\frac{T_{i+1,j}^k -2T_{i,j}^k + T_{i-1,j}^k}{\\Delta x^2} + \\alpha \\frac{T_{1,j+1}^k -2T_{i,j}^k + T_{i,j-1}^k}{\\Delta y^2}$ \n",
    "\n",
    "### If $\\Delta x = \\Delta y$ we obtain the following  \n",
    "\n",
    "$\\frac{T_{ij}^{k+1} - T_{ij}^{k}}{\\Delta t} = \\alpha \\frac{T_{i+1,j}^k + T_{1,j+1}^k -4T_{i,j}^k + T_{i-1,j}^k + T_{i,j-1}^k}{\\Delta x^2}$  \n",
    "\n",
    "### Solving for $T_{ij}^{k+1}$ and re-arranging terms  \n",
    "\n",
    "$T_{ij}^{k+1} = \\gamma\\left(T_{i+1,j}^k + T_{1,j+1}^k + T_{i-1,j}^k + T_{i,j-1}^k\\right) + \\left(1 - 4\\gamma\\right)T_{ij}^k$ \n",
    "\n",
    "where $\\gamma = \\frac{\\alpha \\Delta t}{\\Delta x^2}$  \n",
    "\n",
    "Note: the solution will become unstable if $\\left(1 - \\frac{4\\alpha \\Delta t}{\\Delta x^2} \\right) < 0$. We therefore set the time step as shown below  \n",
    "\n",
    "$\\Delta t = \\frac{\\Delta x^2}{4\\alpha}$  \n",
    "\n",
    "Using the time step above, we find that $\\left(1-4\\gamma\\right)=0$ and therefore the resulting equation is:  \n",
    "\n",
    "$T_{ij}^{k+1} = \\gamma\\left(T_{i+1,j}^k + T_{i,j+1}^k + T_{i-1,j}^k + T_{i,j-1}^k\\right)$  "
   ]
  },
  {
   "cell_type": "code",
   "execution_count": 2,
   "id": "26fbbc5b-3915-48e0-8730-31031bdde6c8",
   "metadata": {},
   "outputs": [],
   "source": [
    "# Loop-based solution from Charlie's webinar\n",
    "\n",
    "def calculate_python_loops(T,gamma):\n",
    "    Nt = len(T)\n",
    "    Nx = len(T[0])\n",
    "    for k in range(0,Nt-1,1):\n",
    "        for i in range(1,Nx-1,1):\n",
    "            for j in range(1,Nx-1,1):\n",
    "                T[k+1,i,j] = gamma*(T[k,i+1,j] + T[k,i-1,j] + T[k,i,j+1] + T[k,i,j-1])\n",
    "    return T"
   ]
  },
  {
   "cell_type": "markdown",
   "id": "1486d5c3-f449-465b-8153-1fe5477fba65",
   "metadata": {},
   "source": [
    "### Vectorized Numpy solution  \n",
    "\n",
    "In order to vectorize the calculation, we will use Numpy arrays and we will replace the Python loops with Numpy array slicing notation. By replacing the Python loops, we are shifting the loops from the Python interpreter to the precompiled Numpy code that is much more efficient.  \n",
    "\n",
    "#### A note on Numpy arrays vs. Python lists  \n",
    "\n",
    "A Numpy array is a data structure in which all of the elements have the same type, and the array has a fixed size. Numpy arrays are often confused with Python lists because the notation is similar. A Python list is simply a container for any type of data. Vectorized calculations cannot be performed on Python lists because lists do not have a fixed data type."
   ]
  },
  {
   "cell_type": "code",
   "execution_count": 53,
   "id": "61b09c57-7e69-464a-bfaf-677799a7d7f9",
   "metadata": {},
   "outputs": [],
   "source": [
    "def calculate_numpy_vectorized(T,gamma):\n",
    "    '''\n",
    "    T = three-dimensional Numpy array intialized with boundary conditions and initial conditions\n",
    "    gamma = finite difference constant, gamma = alpha * dt / dx **2\n",
    "    alpha = thermal diffusivity\n",
    "    dt = time step  \n",
    "    dx = node spacing (same in horizontal and vertical directions)  \n",
    "    '''\n",
    "    Nt = len(T)\n",
    "    Nx = len(T[0])\n",
    "    T[1:Nt, 1:Nx, 1:Nx] = T[0:Nt-1, 0:Nx-1, 0:Nx-1] + T[0:Nt-1, 0:Nx-1, 1:Nx] + T[0:Nt-1, 1:Nx, 0:Nx-1] + T[0:Nt-1, 1:Nx, 1:Nx]\n",
    "    return T"
   ]
  },
  {
   "cell_type": "code",
   "execution_count": 54,
   "id": "3185c0d3-8100-44cd-a872-4062a5cba3a6",
   "metadata": {},
   "outputs": [],
   "source": [
    "import numpy as np\n",
    "import matplotlib.pyplot as plt\n",
    "\n",
    "L = 50\n",
    "Nt = 1000\n",
    "Nx = 50\n",
    "alpha = 2.0\n",
    "dx = L/Nx\n",
    "dt = dx**2/4.0/alpha\n",
    "gamma = alpha*dt/dx/dx\n",
    "T_top = 100.0\n",
    "T_left = 0.0\n",
    "T_right = 0.0\n",
    "T_bottom = 0.0\n",
    "T_initial = 0.0\n",
    "\n",
    "# Initialize Numpy array T to store temperature values\n",
    "T = np.full((Nt,Nx,Nx),T_initial,dtype=float)\n",
    "T[:,:,:1] = T_left\n",
    "T[:,:,Nx-1] = T_right\n",
    "T[:,:1,:] = T_bottom\n",
    "T[:,Nx-1:, :] = T_top"
   ]
  },
  {
   "cell_type": "markdown",
   "id": "dd745f76-e43b-4286-9dc4-15ea26996a03",
   "metadata": {},
   "source": [
    "## Using Numba JIT"
   ]
  },
  {
   "cell_type": "code",
   "execution_count": 55,
   "id": "e9e05192-6435-4dd1-98a0-ec2df320eafd",
   "metadata": {},
   "outputs": [],
   "source": [
    "import numba\n",
    "import numpy as np\n",
    "from numba.typed import List\n",
    "\n",
    "@numba.jit(nopython=True)\n",
    "def calculate_numba(T, gamma):\n",
    "    Nt = len(T)\n",
    "    Nx = len(T[0])\n",
    "    for k in range(0, Nt - 1, 1):\n",
    "        for i in range(1, Nx - 1, 1):\n",
    "            for j in range(1, Nx - 1, 1):\n",
    "                T[k + 1, i, j] = gamma * (T[k, i + 1, j] + T[k, i - 1, j] + T[k, i, j + 1] + T[k, i, j - 1])\n",
    "    return T"
   ]
  },
  {
   "cell_type": "code",
   "execution_count": 56,
   "id": "e3b3dff9-1956-4381-95cd-105e1d3e0ae7",
   "metadata": {},
   "outputs": [
    {
     "name": "stdout",
     "output_type": "stream",
     "text": [
      "Python loops: = 2.162 seconds\n",
      "Numpy vectorized: = 0.029 seconds\n",
      "Numba JIT (first run): = 0.223 seconds\n",
      "Numba JIT (second run): = 0.002 seconds\n"
     ]
    }
   ],
   "source": [
    "import time\n",
    "start_time = time.time()\n",
    "T_python_loops = calculate_python_loops(T, gamma)\n",
    "print(f\"Python loops: = {time.time() - start_time:.3f} seconds\")\n",
    "start_time = time.time()\n",
    "T_numpy_vectorized = calculate_numpy_vectorize(T, gamma)\n",
    "print(f\"Numpy vectorized: = {time.time() - start_time:.3f} seconds\")\n",
    "start_time = time.time()\n",
    "T_numba = calculate_numba(T, gamma)\n",
    "print(f\"Numba JIT (first run): = {time.time() - start_time:.3f} seconds\")\n",
    "start_time = time.time()\n",
    "T_numba = calculate_numba(T, gamma)\n",
    "print(f\"Numba JIT (second run): = {time.time() - start_time:.3f} seconds\")"
   ]
  },
  {
   "cell_type": "code",
   "execution_count": 57,
   "id": "b3f3eff0-d642-49fa-9d9a-530d947e80d9",
   "metadata": {},
   "outputs": [
    {
     "data": {
      "image/png": "[encoded data removed]",
      "text/plain": [
       "<Figure size 576x216 with 6 Axes>"
      ]
     },
     "metadata": {
      "needs_background": "light"
     },
     "output_type": "display_data"
    }
   ],
   "source": [
    "import matplotlib.pyplot as plt\n",
    "\n",
    "fig, ax = plt.subplots(ncols=3,figsize=(8,3),sharey='row')\n",
    "k = 999\n",
    "data = {'Python loops':T_python_loops[k], 'Numpy vectorized':T_python_vectorize[k], 'Numba JIT':T_numba[k]}\n",
    "i = 0\n",
    "for key, value in data.items():\n",
    "    pcm = ax[i].pcolormesh(value, cmap=plt.cm.viridis, vmin=0, vmax=100)\n",
    "    ax[i].set_xlabel('x-position')\n",
    "    ax[i].set_aspect('equal')\n",
    "    ax[i].annotate(key, xy=(1,1), c='white', fontsize=12)\n",
    "    fig.colorbar(pcm,ax=ax[i],shrink=0.75)\n",
    "    i+=1    \n",
    "ax[0].set_ylabel('y-position')\n",
    "#fig.colorbar(pcm)\n",
    "plt.tight_layout()"
   ]
  }
 ],
 "metadata": {
  "IMAGE_NAME": "taccsciapps/ds-nb-img:base-0.1.3",
  "UUID": "9c00ba98-cf7d-11ee-81de-066bd11e7ca2",
  "kernelspec": {
   "display_name": "Python 3 (ipykernel)",
   "language": "python",
   "name": "python3"
  },
  "language_info": {
   "codemirror_mode": {
    "name": "ipython",
    "version": 3
   },
   "file_extension": ".py",
   "mimetype": "text/x-python",
   "name": "python",
   "nbconvert_exporter": "python",
   "pygments_lexer": "ipython3",
   "version": "3.9.10"
  }
 },
 "nbformat": 4,
 "nbformat_minor": 5
}
